{
 "cells": [
  {
   "cell_type": "markdown",
   "metadata": {},
   "source": [
    "# Level 3 Certificate in Data - Spring 2025"
   ]
  },
  {
   "cell_type": "markdown",
   "metadata": {},
   "source": [
    "## Week 2: Mon 3 Mar 2025"
   ]
  },
  {
   "cell_type": "code",
   "execution_count": null,
   "metadata": {},
   "outputs": [],
   "source": [
    "# For loops\n",
    "\n",
    "num = 2 # num = int(input(\"Enter a number to multiply from 1 to 12: \"))\n",
    "for i in range(1, 13):\n",
    "  print(f\"{num} x {i} = {num * i}\")\n",
    "\n",
    "a_list = [4, 3, 9, 7, 2]\n",
    "for a in a_list:\n",
    "  b = 3 * a * a\n",
    "  print(f\"({a},{b})\")\n",
    "\n",
    "fruits = (\"apple\", \"banana\", \"orange\", \"strawberry\", \"kiwi\", \"dragonfruit\")\n",
    "for fruit in fruits:\n",
    "  print(fruit)\n"
   ]
  },
  {
   "cell_type": "code",
   "execution_count": null,
   "metadata": {},
   "outputs": [],
   "source": [
    "# While loops\n",
    "\n",
    "password = \"password\"\n",
    "\n",
    "valid = False\n",
    "while not valid:\n",
    "  pass_attempt = input(\"Enter your password: \")\n",
    "  if pass_attempt == password:\n",
    "    print(\"Access granted\")\n",
    "    valid = True"
   ]
  },
  {
   "cell_type": "code",
   "execution_count": null,
   "metadata": {},
   "outputs": [],
   "source": [
    "# Conditions\n",
    "\n",
    "A = 0.0000000000000000000000000000001\n",
    "B = 0.00000000000000000000000000000001\n",
    "\n",
    "if A == B:\n",
    "  print(\"A is equal to B\")\n",
    "elif A > B:\n",
    "  print(\"A is greater than B\")\n",
    "else:\n",
    "  print(\"A is less than B\")"
   ]
  },
  {
   "cell_type": "code",
   "execution_count": null,
   "metadata": {},
   "outputs": [],
   "source": [
    "# Data structures\n",
    "\n",
    "students = [\"Alice\", \"Bob\", \"Charlie\", \"David\", \"Eve\"]\n",
    "print(len(students))\n",
    "print(students)\n",
    "print(students[2])\n",
    "students.append(\"Frank\")\n",
    "print(students)\n",
    "students.remove(\"David\")\n",
    "print(students)\n",
    "students.insert(2, \"David\")\n",
    "print(students)\n",
    "\n",
    "for i, student in enumerate(students):\n",
    "  print(i, student)\n",
    "\n",
    "for i in range(len(students)):\n",
    "  print(i, students[i])\n",
    "\n",
    "print(students[1:3])\n",
    "students.sort()\n",
    "print(students)\n",
    "print(student)"
   ]
  },
  {
   "cell_type": "code",
   "execution_count": null,
   "metadata": {},
   "outputs": [],
   "source": [
    "# Exercise: Nested data structures\n",
    "\n",
    "menu = [\n",
    "  {\"name\": \"Flat white\", \"price\": 3.60},\n",
    "  {\"name\": \"Tea\", \"price\": 2.50},\n",
    "  {\"name\": \"Espresso\", \"price\": 1.50},\n",
    "]\n",
    "\n",
    "for i, item in enumerate(menu, 1):\n",
    "  print(f\"{i}: {item['name']} costs £{item['price']:.2f}\")\n",
    "\n",
    "menu = [(\"Water\", 1.00), (\"Tea\", 1.50), (\"Coffee\", 2.00), (\"Hot chocolate\", 2.50)]\n",
    "for i, (name, price) in enumerate(menu, 1):\n",
    "  print(f\"{i}: {name} £{price:.2f}\")"
   ]
  },
  {
   "cell_type": "code",
   "execution_count": null,
   "metadata": {},
   "outputs": [],
   "source": [
    "# Practical password example\n",
    "\n",
    "%pip install bcrypt\n",
    "\n",
    "import bcrypt\n",
    "import time\n",
    "import os\n",
    "\n",
    "password = \"swordfish\"\n",
    "password += os.getenv('PASSWORD_PEPPER', \"\")\n",
    "salt = bcrypt.gensalt()\n",
    "hashed_password = bcrypt.hashpw(password.encode(), salt)\n",
    "\n",
    "attempts = 0\n",
    "\n",
    "while True:\n",
    "  password_attempt = input(\"Enter your password: \")\n",
    "  attempts += 1\n",
    "\n",
    "  if bcrypt.checkpw(password_attempt.encode(), hashed_password):\n",
    "      print(\"Access granted\")\n",
    "      break\n",
    "  elif attempts >= 3:\n",
    "      delay = min(attempts * 5, 60)\n",
    "      print(f\"Too many attempts. Wait {delay} seconds...\")\n",
    "      time.sleep(delay)"
   ]
  },
  {
   "cell_type": "code",
   "execution_count": null,
   "metadata": {},
   "outputs": [],
   "source": [
    "# Set max seats to 32\n",
    "# Ask how many male and female students\n",
    "# Print whether we have more boys or girls\n",
    "# Print whether we have seats for everybody\n",
    "\n",
    "MAX_SEATS = 32\n",
    "\n",
    "num_girls = int(input(\"How many girls?\"))\n",
    "num_boys = int(input(\"How many boys?\"))\n",
    "\n",
    "if num_girls > num_boys:\n",
    "  print(f\"More girls ({num_girls}) than boys ({num_boys})\")\n",
    "elif num_boys > num_girls:\n",
    "  print(f\"More boys ({num_boys}) than girls ({num_girls})\")\n",
    "else:\n",
    "  print(\"Equal number of boys ({num_boys}) and girls ({num_girls})\")\n",
    "\n",
    "if num_girls + num_boys <= MAX_SEATS:\n",
    "  print(\"There are enough seats for everyone\")\n",
    "else:\n",
    "  print(\"There are not enough seats for everyone\")"
   ]
  },
  {
   "cell_type": "code",
   "execution_count": null,
   "metadata": {},
   "outputs": [
    {
     "name": "stdout",
     "output_type": "stream",
     "text": [
      "_ _ _ _ _ _ _ _ _ _ \tGuesses remaining: 6\n",
      "s _ _ _ _ _ _ _ _ _ \tGuesses remaining: 6\tLetters guessed: s\n",
      "s t _ _ _ _ _ _ _ _ \tGuesses remaining: 6\tLetters guessed: s t\n",
      "s t r _ _ _ _ r r _ \tGuesses remaining: 6\tLetters guessed: r s t\n",
      "s t r a _ _ _ r r _ \tGuesses remaining: 6\tLetters guessed: a r s t\n",
      "s t r a w _ _ r r _ \tGuesses remaining: 6\tLetters guessed: a r s t w\n",
      "s t r a w b _ r r _ \tGuesses remaining: 6\tLetters guessed: a b r s t w\n",
      "s t r a w b e r r _ \tGuesses remaining: 6\tLetters guessed: a b e r s t w\n",
      "s t r a w b e r r y \tGuesses remaining: 6\tLetters guessed: a b e r s t w y\n",
      "You win!\n",
      "The answer was strawberry\n"
     ]
    }
   ],
   "source": [
    "# Hangman game\n",
    "\n",
    "import random\n",
    "\n",
    "words = [\"apple\", \"banana\", \"orange\", \"strawberry\", \"kiwi\", \"dragonfruit\"]\n",
    "word = random.choice(words)\n",
    "\n",
    "guesses_remaining = 6\n",
    "drawings = {\n",
    "  6: r\"\"\"\n",
    "  ___\n",
    "  |  |\n",
    "     |\n",
    "     |\n",
    "     |\n",
    "     |\n",
    " ======\n",
    "  \"\"\",\n",
    "  5: r\"\"\"\n",
    "  ___\n",
    "  |  |\n",
    "  O  |\n",
    "     |\n",
    "     |\n",
    "     |\n",
    " ======\n",
    "  \"\"\",\n",
    "  4: r\"\"\"\n",
    "  ___\n",
    "  |  |\n",
    "  O  |\n",
    "  |  |\n",
    "     |\n",
    "     |\n",
    " ======\n",
    "  \"\"\",\n",
    "  3: r\"\"\"\n",
    "  ___\n",
    "  |  |\n",
    "  O  |\n",
    " /|  |\n",
    "     |\n",
    "     |\n",
    " ======\n",
    "  \"\"\",\n",
    "  2: r\"\"\"\n",
    "  ___\n",
    "  |  |\n",
    "  O  |\n",
    " /|\\ |\n",
    "     |\n",
    "     |\n",
    " ======\n",
    "  \"\"\",\n",
    "  1: r\"\"\"\n",
    "  ___\n",
    "  |  |\n",
    "  O  |\n",
    " /|\\ |\n",
    " /   |\n",
    "     |\n",
    " ======\n",
    "  \"\"\",\n",
    "  0: r\"\"\"\n",
    "  ___\n",
    "  |  |\n",
    "  O  |\n",
    " /|\\ |\n",
    " / \\ |\n",
    "     |\n",
    " ======\n",
    "  \"\"\"\n",
    "}\n",
    "\n",
    "answer_set = set(word)\n",
    "guess_set = set()\n",
    "\n",
    "while guesses_remaining > 0:\n",
    "  for letter in word: print(letter, end=\" \") if letter in guess_set else print(\"_\", end=\" \")\n",
    "  print(f\"\\tGuesses remaining: {guesses_remaining}\", end=\"\")\n",
    "  print(f\"\\tLetters guessed: {' '.join(sorted(guess_set))}\") if guess_set else print()\n",
    "\n",
    "  if answer_set.issubset(guess_set):\n",
    "    print(\"You win!\")\n",
    "    break\n",
    "\n",
    "  guess = input(\"Enter a letter: \").lower()\n",
    "  if len(guess) != 1 or not guess.isalpha():\n",
    "    print(\"Please enter a single letter from a-z\")\n",
    "    continue\n",
    "  elif guess in guess_set:\n",
    "    print(f\"You already guessed the letter '{guess}'\")\n",
    "    continue\n",
    "\n",
    "  guess_set.add(guess)\n",
    "\n",
    "  if guess not in answer_set:\n",
    "    guesses_remaining -= 1\n",
    "    print(drawings[guesses_remaining])\n",
    "\n",
    "print(\"The answer was\", word)\n"
   ]
  },
  {
   "cell_type": "markdown",
   "metadata": {},
   "source": [
    "## Week 3: Mon 10 Mar 2025"
   ]
  },
  {
   "cell_type": "code",
   "execution_count": 12,
   "metadata": {},
   "outputs": [
    {
     "name": "stdout",
     "output_type": "stream",
     "text": [
      "4\n",
      "1\n"
     ]
    }
   ],
   "source": [
    "# Functions and Random Numbers\n",
    "\n",
    "import random\n",
    "\n",
    "def roll_dice():\n",
    "  return random.randint(1, 6)\n",
    "\n",
    "print(roll_dice())\n",
    "\n",
    "import secrets\n",
    "\n",
    "def roll_secure_dice():\n",
    "  return secrets.randbelow(6) + 1\n",
    "\n",
    "print(roll_secure_dice())"
   ]
  },
  {
   "cell_type": "code",
   "execution_count": null,
   "metadata": {},
   "outputs": [
    {
     "name": "stdout",
     "output_type": "stream",
     "text": [
      "Total: 2365\n",
      "Mean: 47.3\n",
      "\n",
      "Total: 2547\n",
      "Mean: 50.94\n"
     ]
    }
   ],
   "source": [
    "# Calculate the total and mean average for 50 random numbers from 1 to 100\n",
    "\n",
    "import random\n",
    "\n",
    "rand_nums = [random.randint(1, 100) for _ in range(50)]\n",
    "\n",
    "print(f\"Total: {sum(rand_nums)}\")\n",
    "print(f\"Mean: {sum(rand_nums) / len(rand_nums)}\")\n",
    "\n",
    "print()\n",
    "\n",
    "uniq_rand_nums = random.sample(range(1, 101), 50) # Sample does not choose duplicates unless list contains dupes\n",
    "print(f\"Total: {sum(uniq_rand_nums)}\")\n",
    "print(f\"Mean: {sum(uniq_rand_nums) / len(uniq_rand_nums)}\")\n"
   ]
  },
  {
   "cell_type": "code",
   "execution_count": 21,
   "metadata": {},
   "outputs": [
    {
     "name": "stdout",
     "output_type": "stream",
     "text": [
      "Bob\n",
      "Eve Charlie\n"
     ]
    }
   ],
   "source": [
    "# Pick a random name from a list of names\n",
    "\n",
    "import random\n",
    "\n",
    "names = [\"Alice\", \"Bob\", \"Charlie\", \"David\", \"Eve\"]\n",
    "print(random.choice(names))\n",
    "print(\" \".join(random.sample(names, 2)))"
   ]
  },
  {
   "cell_type": "code",
   "execution_count": 54,
   "metadata": {},
   "outputs": [
    {
     "name": "stdout",
     "output_type": "stream",
     "text": [
      "100 is too high\n",
      "1 is too low\n",
      "50 is too low\n",
      "75 is too high\n",
      "60 is too high\n",
      "55 is too high\n",
      "53 is correct!\n",
      "Number of attempts: 7\n",
      "Guesses: [100, 1, 50, 75, 60, 55, 53]\n"
     ]
    }
   ],
   "source": [
    "# Guess my number game\n",
    "\n",
    "import random\n",
    "\n",
    "number = random.randint(1, 100)\n",
    "guesses = []\n",
    "num_attempts = 0\n",
    "\n",
    "while number not in guesses:\n",
    "  num_attempts += 1\n",
    "\n",
    "  guess = int(input(\"Enter a number: \"))\n",
    "  guesses.append(guess)\n",
    "\n",
    "  if guess < number:\n",
    "    print(f\"{guess} is too low\", flush=True)\n",
    "  elif guess > number:\n",
    "    print(f\"{guess} is too high\", flush=True)\n",
    "\n",
    "print(f\"{guess} is correct!\")\n",
    "print(f\"Number of attempts: {num_attempts}\\nGuesses: {guesses}\")"
   ]
  },
  {
   "cell_type": "markdown",
   "metadata": {},
   "source": [
    "### Statistics\n",
    "\n",
    "- A good sample is representative of the population\n",
    "- Three types of averages: mean (sum average), mode (most occurring), median (middle of sorted data)\n",
    "  - Mean of x is pronounded \"x bar\" and its mathematical notation is $\\bar{x}$\n",
    "- Frequency analysis looks at how often data appears\n",
    "- Variance is the distance from the middle and from each other (mean distance between data and its mean)\n",
    "  - When data contains negative numbers, squares every number to get positives (why not use absolutes?)\n",
    "- Range measures the differene between the highest and lowest (e.g. max=67, min=12, range=67-12=55)\n",
    "- Standard deviation is the distance from the middle of individual values (i.e. square root of the variance)\n",
    "  - Distance from the data set to the mean avg, gives an idea of how much variance there is in the data\n",
    "  - Or how spread the range is"
   ]
  },
  {
   "cell_type": "code",
   "execution_count": 51,
   "metadata": {},
   "outputs": [
    {
     "name": "stdout",
     "output_type": "stream",
     "text": [
      "Length: 13\n",
      "Total: 563\n",
      "Mean: 43.30769230769231\n",
      "Mode:\n",
      "Median: None\n",
      "\n",
      "Length: 4\n",
      "Total: 168000\n",
      "Mean: 42000.0\n",
      "Mode: 3000\n",
      "Median: 7500.0\n"
     ]
    }
   ],
   "source": [
    "import math\n",
    "\n",
    "nums = [34, 45, 34, 54, 23, 67, 56, 45, 12, 45, 67, 56, 25]\n",
    "print(f\"Length: {len(nums)}\")\n",
    "print(f\"Total: {sum(nums)}\")\n",
    "print(f\"Mean: {sum(nums) / len(nums)}\") # Sum of all numbers divided by the number of numbers\n",
    "print(f\"Mode:\") # Most common number (may not exist)\n",
    "print(f\"Median: {nums.sort()}\") # Middle number of the sorted list (or median of the two middle numbers)\n",
    "\n",
    "print()\n",
    "\n",
    "salary = [3_000, 5_000, 10_000, 150_000]\n",
    "print(f\"Length: {len(salary)}\")\n",
    "print(f\"Total: {sum(salary)}\")\n",
    "print(f\"Mean: {sum(salary) / len(salary)}\")\n",
    "print(f\"Mode: {max(set(salary), key=salary.count)}\") # FIXME: Should be no mode\n",
    "print(f\"Median: {sorted(salary)[len(salary) // 2] if len(salary) % 2 else (sorted(salary)[len(salary) // 2 - 1] + sorted(salary)[len(salary) // 2]) / 2}\") # If even, average of two middle numbers"
   ]
  },
  {
   "cell_type": "code",
   "execution_count": null,
   "metadata": {},
   "outputs": [
    {
     "name": "stdout",
     "output_type": "stream",
     "text": [
      "Total: 4003\n",
      "Mean: 40.43434343434343\n",
      "Median: 40\n",
      "Mode: 49\n",
      "\n",
      "Total: 3964\n",
      "Mean: 40.04040404040404\n",
      "Median: 40\n",
      "Mode: None\n",
      "\n",
      "Total: 4017\n",
      "Mean: 40.57575757575758\n",
      "Median: 41\n",
      "Mode: None\n",
      "\n",
      "Total: 3958\n",
      "Mean: 39.97979797979798\n",
      "Median: 40\n",
      "Mode: 50\n",
      "\n",
      "Total: 3876\n",
      "Mean: 39.15151515151515\n",
      "Median: 38\n",
      "Mode: 36\n",
      "\n"
     ]
    }
   ],
   "source": [
    "# Generate a list of 99 random numbers from 30 to 50\n",
    "# Calculate the total, mean average, median, and optionally the mode\n",
    "# Repeat five times\n",
    "\n",
    "import random\n",
    "\n",
    "def total(l):\n",
    "  return sum(l)\n",
    "\n",
    "# Sum of all numbers divided by the number of numbers\n",
    "def mean(l):\n",
    "  return sum(l) / len(l)\n",
    "\n",
    "# Middle number of the sorted list (or median of the two middle numbers)\n",
    "def median(l):\n",
    "  l.sort()\n",
    "  midpoint = len(l) // 2\n",
    "  return l[midpoint] if len(l) % 2 else (l[midpoint - 1] + l[midpoint]) / 2\n",
    "\n",
    "# Most common number or None if it does not exist\n",
    "def mode(l):\n",
    "  freq = {}\n",
    "\n",
    "  for num in l:\n",
    "    # TODO: Can use a defaultdict to start with 0 to avoid the initialisation conditional\n",
    "    # from collections import defaultdict\n",
    "    # freq = defaultdict(int)\n",
    "    if num in freq:\n",
    "      freq[num] += 1\n",
    "    else:\n",
    "      freq[num] = 1\n",
    "\n",
    "  mode = None\n",
    "  max = 0\n",
    "  for num, count in freq.items():\n",
    "    # print(f\"num: {num}, count: {count}, max: {max}, mode: {mode}\")\n",
    "    if count > max:\n",
    "      max = count\n",
    "      mode = num\n",
    "    elif count == max:\n",
    "      mode = None\n",
    "\n",
    "  return mode\n",
    "  # return max(freq, key=freq.get) # Problem with this is it does not check for multiple max values\n",
    "\n",
    "for _ in range(5):\n",
    "  nums = [random.randint(30, 50) for _ in range(99)]\n",
    "  print(f\"Total: {total(nums)}\")\n",
    "  print(f\"Mean: {mean(nums)}\")\n",
    "  print(f\"Median: {median(nums)}\")\n",
    "  print(f\"Mode: {mode(nums)}\")\n",
    "  print()\n"
   ]
  },
  {
   "cell_type": "code",
   "execution_count": null,
   "metadata": {},
   "outputs": [
    {
     "name": "stdout",
     "output_type": "stream",
     "text": [
      "Length: 8\n",
      "Total: 40\n",
      "Mean: 5.0\n",
      "Deviations: [-3.0, -1.0, -1.0, -1.0, 0.0, 0.0, 2.0, 4.0]\n",
      "Squared deviations: [9.0, 1.0, 1.0, 1.0, 0.0, 0.0, 4.0, 16.0]\n",
      "Sum of squared deviations: 32.0\n",
      "Variance: 4.0\n",
      "Standard deviation: 2.0\n"
     ]
    },
    {
     "data": {
      "text/plain": [
       "'\\nx   x - mean    (x - mean)^2\\n2   2 - 5 = -3  -3^2 = 9\\n4   4 - 5 = -1  -1^2 = 1\\n4   4 - 5 = -1  -1^2 = 1\\n4   4 - 5 = -1  -1^2 = 1\\n5   5 - 5 =  0   0^2 = 0\\n5   5 - 5 =  0   0^2 = 0\\n7   7 - 5 =  2   2^2 = 4\\n9   9 - 5 =  4   4^2 = 16\\n\\nSum of (x - mean)^2 = 32\\nVariance = 32 / 8 = 4\\nStandard deviation = sqrt(4) = 2\\n'"
      ]
     },
     "execution_count": 58,
     "metadata": {},
     "output_type": "execute_result"
    }
   ],
   "source": [
    "# Calculate the mean of a data set\n",
    "# Calculate the variance of a data set\n",
    "# Calculate the standard deviation of a data set\n",
    "\n",
    "dataset = [2, 4, 4, 4, 5, 5, 7, 9]\n",
    "\n",
    "def total(l):\n",
    "  return sum(l)\n",
    "\n",
    "def mean(l):\n",
    "  return sum(l) / len(l)\n",
    "\n",
    "def deviations(l):\n",
    "  return [x - mean(l) for x in l]\n",
    "\n",
    "def squared_deviations(l):\n",
    "  return list(map(lambda d: d ** 2, deviations(l)))\n",
    "  # return [(x - mean(l)) ** 2 for x in l]\n",
    "\n",
    "# Also known as sum of squares (ss)\n",
    "def sum_of_squared_deviations(l):\n",
    "  return sum(squared_deviations(l))\n",
    "  # return sum([(x - mean(l)) ** 2 for x in l])\n",
    "\n",
    "def variance(l):\n",
    "  return sum_of_squared_deviations(l) / len(l)\n",
    "\n",
    "def standard_deviation(l):\n",
    "  return math.sqrt(variance(l))\n",
    "\n",
    "print(f\"Length: {len(dataset)}\") # 8\n",
    "print(f\"Total: {total(dataset)}\") # 40\n",
    "print(f\"Mean: {mean(dataset)}\") # 5\n",
    "\n",
    "print(f\"Deviations: {deviations(dataset)}\") # [-3, -1, -1, -1, 0, 0, 2, 4]\n",
    "print(f\"Squared deviations: {squared_deviations(dataset)}\") # [9, 1, 1, 1, 0, 0, 4, 16]\n",
    "\n",
    "print(f\"Sum of squared deviations: {sum_of_squared_deviations(dataset)}\") # 32\n",
    "print(f\"Variance: {variance(dataset)}\") # 4\n",
    "print(f\"Standard deviation: {standard_deviation(dataset)}\") # 2\n",
    "\n",
    "\"\"\"\n",
    "x   x - mean    (x - mean)^2\n",
    "2   2 - 5 = -3  -3^2 = 9\n",
    "4   4 - 5 = -1  -1^2 = 1\n",
    "4   4 - 5 = -1  -1^2 = 1\n",
    "4   4 - 5 = -1  -1^2 = 1\n",
    "5   5 - 5 =  0   0^2 = 0\n",
    "5   5 - 5 =  0   0^2 = 0\n",
    "7   7 - 5 =  2   2^2 = 4\n",
    "9   9 - 5 =  4   4^2 = 16\n",
    "\n",
    "Sum of (x - mean)^2 = 32\n",
    "Variance = 32 / 8 = 4\n",
    "Standard deviation = sqrt(4) = 2\n",
    "\"\"\"\n"
   ]
  },
  {
   "cell_type": "code",
   "execution_count": null,
   "metadata": {},
   "outputs": [
    {
     "name": "stdout",
     "output_type": "stream",
     "text": [
      "Dataset: [2, 4, 4, 4, 5, 5, 7, 9]\n",
      "Length: 8\n",
      "Total: 40\n",
      "Mean: 5.0\n",
      "Deviations: [-3.0, -1.0, -1.0, -1.0, 0.0, 0.0, 2.0, 4.0]\n",
      "Squared deviations: [9.0, 1.0, 1.0, 1.0, 0.0, 0.0, 4.0, 16.0]\n",
      "Sum of squared deviations: 32.0\n",
      "Variance: 4.0\n",
      "Standard deviation: 2.0\n"
     ]
    }
   ],
   "source": [
    "import math\n",
    "\n",
    "# TODO: Recalculate ivars when dataset changes\n",
    "class Datascience:\n",
    "  def __init__(self, dataset=[]):\n",
    "    self.dataset = dataset\n",
    "    self.length = self.length()\n",
    "    self.total = self.total()\n",
    "    self.mean = self.mean()\n",
    "    self.deviations = self.deviations()\n",
    "    self.squared_deviations = self.squared_deviations()\n",
    "    self.sum_of_squared_deviations = self.sum_of_squared_deviations()\n",
    "    self.variance = self.variance()\n",
    "    self.standard_deviation = self.standard_deviation()\n",
    "\n",
    "  def length(self):\n",
    "    return len(self.dataset)\n",
    "\n",
    "  def total(self):\n",
    "    return sum(self.dataset)\n",
    "\n",
    "  def mean(self):\n",
    "    return sum(self.dataset) / len(self.dataset)\n",
    "\n",
    "  def deviations(self):\n",
    "    return [x - self.mean for x in self.dataset]\n",
    "\n",
    "  def squared_deviations(self):\n",
    "    return list(map(lambda d: d ** 2, self.deviations))\n",
    "\n",
    "  def sum_of_squared_deviations(self):\n",
    "    return sum(self.squared_deviations)\n",
    "\n",
    "  def variance(self):\n",
    "    return self.sum_of_squared_deviations / self.length\n",
    "\n",
    "  def standard_deviation(self):\n",
    "    return math.sqrt(self.variance)\n",
    "\n",
    "ds = Datascience([2, 4, 4, 4, 5, 5, 7, 9])\n",
    "print(f\"Dataset: {ds.dataset}\")\n",
    "print(f\"Length: {ds.length}\")\n",
    "print(f\"Total: {ds.total}\")\n",
    "print(f\"Mean: {ds.mean}\")\n",
    "print(f\"Deviations: {ds.deviations}\")\n",
    "print(f\"Squared deviations: {ds.squared_deviations}\")\n",
    "print(f\"Sum of squared deviations: {ds.sum_of_squared_deviations}\")\n",
    "print(f\"Variance: {ds.variance}\")\n",
    "print(f\"Standard deviation: {ds.standard_deviation}\")"
   ]
  },
  {
   "cell_type": "markdown",
   "metadata": {},
   "source": [
    "### Correlation\n",
    "\n",
    "- Links between data\n",
    "- Linear or straight-line correlation means a proportional increase/decrease between the variables\n",
    "  - Can be positive (increasing) or negative (decreasing) correlation\n",
    "- Non-linear correlation means there is correlation but it's not proportional\n",
    "- No correlation means no obvious pattern for a relationship between the variables"
   ]
  },
  {
   "cell_type": "markdown",
   "metadata": {},
   "source": [
    "## Week 3: Tue 11 Mar 2025"
   ]
  },
  {
   "cell_type": "code",
   "execution_count": null,
   "metadata": {},
   "outputs": [],
   "source": [
    "# Install data science dependencies\n",
    "%pip install numpy pandas matplotlib scipy seaborn tabulate"
   ]
  },
  {
   "cell_type": "code",
   "execution_count": null,
   "metadata": {},
   "outputs": [
    {
     "name": "stdout",
     "output_type": "stream",
     "text": [
      "=== Numpy === \n",
      "Median: 4.5\n",
      "Mean: 5.0\n",
      "Variance (population): 4.0\n",
      "Standard deviation (population): 2.0\n",
      "Variance (sample): 4.571428571428571\n",
      "Standard deviation (sample): 2.138089935299395\n",
      "\n",
      "=== Scipy ===\n",
      "Mode: 4\n",
      "Mean: 5.0\n",
      "Variance: 4.571428571428571\n",
      "Standard deviation: 2.138089935299395\n",
      "Sum of squared deviations: 36.57142857142857\n",
      "Range: 9 - 2 = 7\n"
     ]
    }
   ],
   "source": [
    "# Numpy has built-in functions for mean, median, mode, variance, and standard deviation\n",
    "\n",
    "import numpy as np\n",
    "from scipy import stats\n",
    "\n",
    "data = [2, 4, 4, 4, 5, 5, 7, 9]\n",
    "\n",
    "print(\"=== Numpy === \")\n",
    "print(f\"Median: {np.median(data)}\")\n",
    "print(f\"Mean: {np.mean(data)}\")\n",
    "print(f\"Variance (population): {np.var(data)}\")\n",
    "print(f\"Standard deviation (population): {np.std(data)}\")\n",
    "print(f\"Variance (sample): {np.var(data, ddof=1)}\")\n",
    "print(f\"Standard deviation (sample): {np.std(data, ddof=1)}\")\n",
    "\n",
    "print(\"\\n=== Scipy ===\")\n",
    "print(f\"Mode: {stats.mode(data).mode}\")\n",
    "print(f\"Mean: {stats.tmean(data)}\")\n",
    "print(f\"Variance (sample): {stats.tvar(data)}\")\n",
    "print(f\"Standard deviation (sample): {stats.tstd(data)}\")\n",
    "print(f\"Sum of squared deviations: {stats.tvar(data) * len(data)}\")\n",
    "print(f\"Range: {stats.tmax(data)} - {stats.tmin(data)} = {stats.tmax(data) - stats.tmin(data)}\")\n",
    "\n",
    "# Why does Scipy give a different result for variance and standard deviation?\n",
    "# Scipy uses the sample (n-1) variance and standard deviation by default\n",
    "# Numpy uses the population (n) variance and standard deviation by default\n",
    "# To get the same result as Numpy, use ddof=0 in Scipy\n",
    "# To get the same result as Scipy, use ddof=1 in Numpy"
   ]
  },
  {
   "cell_type": "code",
   "execution_count": null,
   "metadata": {},
   "outputs": [
    {
     "name": "stdout",
     "output_type": "stream",
     "text": [
      "    Duration  Average_Pulse  Max_Pulse  Calorie_Burnage  Hours_Work  \\\n",
      "0       30.0           80.0      120.0            240.0        10.0   \n",
      "1       45.0           85.0      120.0            250.0        10.0   \n",
      "2       45.0           90.0      130.0            260.0         8.0   \n",
      "3       60.0           95.0      130.0            270.0         8.0   \n",
      "4       60.0          100.0      140.0            280.0         0.0   \n",
      "6       60.0          105.0      140.0            290.0         7.0   \n",
      "7       60.0          110.0      145.0            300.0         7.0   \n",
      "9       45.0          115.0      145.0            310.0         8.0   \n",
      "10      60.0          120.0      150.0            320.0         0.0   \n",
      "12      45.0          125.0      150.0            330.0         8.0   \n",
      "\n",
      "    Hours_Sleep  \n",
      "0           7.0  \n",
      "1           7.0  \n",
      "2           7.0  \n",
      "3           7.0  \n",
      "4           7.0  \n",
      "6           8.0  \n",
      "7           8.0  \n",
      "9           8.0  \n",
      "10          8.0  \n",
      "12          8.0  \n",
      "\n",
      "        Duration  Average_Pulse   Max_Pulse  Calorie_Burnage  Hours_Work  \\\n",
      "count  10.000000      10.000000   10.000000        10.000000   10.000000   \n",
      "mean   51.000000     102.500000  137.000000       285.000000    6.600000   \n",
      "std    10.488088      15.138252   11.352924        30.276504    3.627059   \n",
      "min    30.000000      80.000000  120.000000       240.000000    0.000000   \n",
      "25%    45.000000      91.250000  130.000000       262.500000    7.000000   \n",
      "50%    52.500000     102.500000  140.000000       285.000000    8.000000   \n",
      "75%    60.000000     113.750000  145.000000       307.500000    8.000000   \n",
      "max    60.000000     125.000000  150.000000       330.000000   10.000000   \n",
      "\n",
      "       Hours_Sleep  \n",
      "count    10.000000  \n",
      "mean      7.500000  \n",
      "std       0.527046  \n",
      "min       7.000000  \n",
      "25%       7.000000  \n",
      "50%       7.500000  \n",
      "75%       8.000000  \n",
      "max       8.000000  \n"
     ]
    }
   ],
   "source": [
    "# Processing a CSV file with Pandas\n",
    "\n",
    "import pandas as pd\n",
    "\n",
    "df = pd.read_csv(\"../data/sleep.csv\")\n",
    "\n",
    "df = df.dropna() # Drop any rows with missing data\n",
    "\n",
    "# Convert int columns to floats for calculations\n",
    "df[\"Average_Pulse\"] = df[\"Average_Pulse\"].astype(float)\n",
    "df[\"Max_Pulse\"] = df[\"Max_Pulse\"].astype(float)\n",
    "\n",
    "print(df)\n",
    "print()\n",
    "# print(f\"Rows, Columns: {df.shape}\")\n",
    "# print(df.info())\n",
    "print(df.describe()) # count, mean, std, min, 25%, 50%, 75%, max"
   ]
  },
  {
   "cell_type": "markdown",
   "metadata": {},
   "source": [
    "## Week 3: Fri 14 Mar 2025\n",
    "\n",
    "### Charts and Diagrams\n",
    "\n",
    "- Raw data comes from observations, surveys, or sampling\n",
    "- Raw data not always usable (missing, erroneous, misinterpreted)\n",
    "- Needs to be processed before it can be analysed and presented\n",
    "\n",
    "- Small amounts of data can be presented numerically (eg table)\n",
    "- Graphical presentation (eg chart) used to understand underlying features not obvious from looking at data in table form (e.g. trends, comparisons, correlation)\n",
    "\n",
    "Types of Charts\n",
    "- Line, area, scatter, bubble, radar: trends and relationships\n",
    "  - Bubble also adds frequency via size of bubbles\n",
    "  - Time series chart is line chart with time on the x-axis\n",
    "- Pie: proportions and percentages\n",
    "- Column/bar: frequency histograms\n",
    "  - Population pyramid has bar chart on both sides for each sex\n",
    "- Histograms: distribution of grouped data (how spread data is)\n",
    "  - Stacked histograms show show several categories on a stack\n",
    "- Candle stick, percentile: proportions and percentages\n",
    "  - Candle stick used to show price movement of stocks (high-low and open-close)\n",
    "\n",
    "Types of Measures\n",
    "- Measures of central tendency\n",
    "  - Mean, Median, Mode\n",
    "- Measures of dispersion (from the mean)\n",
    "  - Min, Max, Range\n",
    "  - Standard Deviation, Variance\n",
    "  - Percentiles\n",
    "- Measures of correlation\n",
    "  - Corelation Coefficient\n",
    "  - Linear and Non-linear Regression\n",
    "\n",
    "Types of Data\n",
    "- Numerical\n",
    "  - Discrete (countable), Continous (range)\n",
    "- Categorical\n",
    "  - Cannot be measures (e.g. yes/no, colours)\n",
    "- Ordinal\n",
    "  - Cannot be measured but can be ordered (e.g. Grade A > B)"
   ]
  },
  {
   "cell_type": "code",
   "execution_count": 20,
   "metadata": {},
   "outputs": [
    {
     "data": {
      "image/png": "[encoded data removed]",
      "text/plain": [
       "<Figure size 640x480 with 1 Axes>"
      ]
     },
     "metadata": {},
     "output_type": "display_data"
    },
    {
     "data": {
      "text/plain": [
       "<Axes: title={'center': 'Line Plot with Pandas'}, xlabel='x'>"
      ]
     },
     "execution_count": 20,
     "metadata": {},
     "output_type": "execute_result"
    },
    {
     "data": {
      "image/png": "[encoded data removed]",
      "text/plain": [
       "<Figure size 640x480 with 1 Axes>"
      ]
     },
     "metadata": {},
     "output_type": "display_data"
    }
   ],
   "source": [
    "# Matplotlib is most commonly used for plotting.\n",
    "# Pandas can also plot dataframes using Matplotlib.\n",
    "\n",
    "import matplotlib.pyplot as plt\n",
    "\n",
    "x = [1, 2, 3, 4, 5]\n",
    "y = [2, 4, 6, 8, 10]\n",
    "\n",
    "plt.plot(x, y)\n",
    "plt.title(\"Line Plot with Matplotlib\")\n",
    "plt.xlabel(\"X-axis\")\n",
    "plt.ylabel(\"Y-axis\")\n",
    "plt.show()\n",
    "\n",
    "# Using Pandas\n",
    "\n",
    "import pandas as pd\n",
    "\n",
    "data = {'x': [1, 2, 3, 4, 5], 'y': [2, 4, 6, 8, 10]}\n",
    "df = pd.DataFrame(data)\n",
    "\n",
    "df.plot(x='x', y='y', kind='line', title=\"Line Plot with Pandas\")\n",
    "# When not using Jupyter Notebook, need to call plt.show()"
   ]
  },
  {
   "cell_type": "code",
   "execution_count": 19,
   "metadata": {},
   "outputs": [
    {
     "data": {
      "image/png": "[encoded data removed]",
      "text/plain": [
       "<Figure size 640x480 with 1 Axes>"
      ]
     },
     "metadata": {},
     "output_type": "display_data"
    }
   ],
   "source": [
    "# Seaborn is built on top of Matplotlib and provides a high-level\n",
    "# interface for creating attractive statistical graphics.\n",
    "\n",
    "import seaborn as sns\n",
    "import matplotlib.pyplot as plt\n",
    "\n",
    "x = [1, 2, 3, 4, 5]\n",
    "y = [2, 4, 6, 8, 10]\n",
    "\n",
    "sns.lineplot(x=x, y=y)\n",
    "\n",
    "plt.title(\"Line Plot with Seaborn\")\n",
    "plt.xlabel(\"X-axis\")\n",
    "plt.ylabel(\"Y-axis\")\n",
    "plt.show()"
   ]
  },
  {
   "cell_type": "code",
   "execution_count": 33,
   "metadata": {},
   "outputs": [
    {
     "name": "stdout",
     "output_type": "stream",
     "text": [
      "+---------------------------------+----------+\n",
      "| Numpy Stats                     |    Value |\n",
      "+=================================+==========+\n",
      "| Median                          | 4.96249  |\n",
      "+---------------------------------+----------+\n",
      "| Mean                            | 4.99999  |\n",
      "+---------------------------------+----------+\n",
      "| Variance (population)           | 0.912097 |\n",
      "+---------------------------------+----------+\n",
      "| Variance (sample)               | 0.91301  |\n",
      "+---------------------------------+----------+\n",
      "| Standard deviation (population) | 0.955038 |\n",
      "+---------------------------------+----------+\n",
      "| Standard deviation (sample)     | 0.955515 |\n",
      "+---------------------------------+----------+\n",
      "+-----------------------------+----------+\n",
      "| Scipy Stats                 |    Value |\n",
      "+=============================+==========+\n",
      "| Mode                        | 2.01692  |\n",
      "+-----------------------------+----------+\n",
      "| Mean                        | 4.99999  |\n",
      "+-----------------------------+----------+\n",
      "| Variance (sample)           | 0.91301  |\n",
      "+-----------------------------+----------+\n",
      "| Standard deviation (sample) | 0.955515 |\n",
      "+-----------------------------+----------+\n",
      "| Min                         | 2.01692  |\n",
      "+-----------------------------+----------+\n",
      "| Max                         | 7.71716  |\n",
      "+-----------------------------+----------+\n",
      "| Range                       | 5.70024  |\n",
      "+-----------------------------+----------+\n"
     ]
    },
    {
     "data": {
      "image/png": "[encoded data removed]",
      "text/plain": [
       "<Figure size 640x480 with 1 Axes>"
      ]
     },
     "metadata": {},
     "output_type": "display_data"
    }
   ],
   "source": [
    "import numpy as np\n",
    "from scipy import stats\n",
    "import seaborn as sns\n",
    "from tabulate import tabulate\n",
    "\n",
    "data = np.random.normal(loc=5, scale=1, size=1000) # mean, stddev, n\n",
    "\n",
    "sns.histplot(data, kde=True)\n",
    "\n",
    "numpy_stats = [\n",
    "    [\"Median\", np.median(data)],\n",
    "    [\"Mean\", np.mean(data)],\n",
    "    [\"Variance (population)\", np.var(data)],\n",
    "    [\"Variance (sample)\", np.var(data, ddof=1)],\n",
    "    [\"Standard deviation (population)\", np.std(data)],\n",
    "    [\"Standard deviation (sample)\", np.std(data, ddof=1)],\n",
    "]\n",
    "\n",
    "scipy_stats = [\n",
    "    [\"Mode\", stats.mode(data).mode],\n",
    "    [\"Mean\", stats.tmean(data)],\n",
    "    [\"Variance (sample)\", stats.tvar(data)],\n",
    "    [\"Standard deviation (sample)\", stats.tstd(data)],\n",
    "    # [\"Sum of squared deviations\", stats.tvar(data) * len(data)],\n",
    "    [\"Min\", f\"{stats.tmin(data)}\"],\n",
    "    [\"Max\", f\"{stats.tmax(data)}\"],\n",
    "    [\"Range\", f\"{stats.tmax(data) - stats.tmin(data)}\"],\n",
    "]\n",
    "\n",
    "print(tabulate(numpy_stats, headers=[\"Numpy Stats\", \"Value\"], tablefmt=\"grid\"))\n",
    "print(tabulate(scipy_stats, headers=[\"Scipy Stats\", \"Value\"], tablefmt=\"grid\"))"
   ]
  }
 ],
 "metadata": {
  "kernelspec": {
   "display_name": "Python 3",
   "language": "python",
   "name": "python3"
  },
  "language_info": {
   "codemirror_mode": {
    "name": "ipython",
    "version": 3
   },
   "file_extension": ".py",
   "mimetype": "text/x-python",
   "name": "python",
   "nbconvert_exporter": "python",
   "pygments_lexer": "ipython3",
   "version": "3.13.2"
  }
 },
 "nbformat": 4,
 "nbformat_minor": 2
}
