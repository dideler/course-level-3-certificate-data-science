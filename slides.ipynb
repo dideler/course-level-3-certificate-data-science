{
 "cells": [
  {
   "cell_type": "markdown",
   "metadata": {},
   "source": [
    "# Level 3 Certificate in Data - Spring 2025"
   ]
  },
  {
   "cell_type": "markdown",
   "metadata": {},
   "source": [
    "## Week 2: Mon 3 Mar 2025"
   ]
  },
  {
   "cell_type": "code",
   "execution_count": null,
   "metadata": {},
   "outputs": [
    {
     "name": "stdout",
     "output_type": "stream",
     "text": [
      "2 x 1 = 2\n",
      "2 x 2 = 4\n",
      "2 x 3 = 6\n",
      "2 x 4 = 8\n",
      "2 x 5 = 10\n",
      "2 x 6 = 12\n",
      "2 x 7 = 14\n",
      "2 x 8 = 16\n",
      "2 x 9 = 18\n",
      "2 x 10 = 20\n",
      "2 x 11 = 22\n",
      "2 x 12 = 24\n",
      "(4,48)\n",
      "(3,27)\n",
      "(9,243)\n",
      "(7,147)\n",
      "(2,12)\n",
      "apple\n",
      "banana\n",
      "orange\n",
      "strawberry\n",
      "kiwi\n",
      "dragonfruit\n"
     ]
    }
   ],
   "source": [
    "# For loops\n",
    "\n",
    "num = 2 # num = int(input(\"Enter a number to multiply from 1 to 12: \"))\n",
    "for i in range(1, 13):\n",
    "  print(f\"{num} x {i} = {num * i}\")\n",
    "\n",
    "a_list = [4, 3, 9, 7, 2]\n",
    "for a in a_list:\n",
    "  b = 3 * a * a\n",
    "  print(f\"({a},{b})\")\n",
    "\n",
    "fruits = (\"apple\", \"banana\", \"orange\", \"strawberry\", \"kiwi\", \"dragonfruit\")\n",
    "for fruit in fruits:\n",
    "  print(fruit)\n"
   ]
  },
  {
   "cell_type": "code",
   "execution_count": null,
   "metadata": {},
   "outputs": [],
   "source": [
    "# While loops\n",
    "\n",
    "password = \"password\"\n",
    "\n",
    "valid = False\n",
    "while not valid:\n",
    "  pass_attempt = input(\"Enter your password: \")\n",
    "  if pass_attempt == password:\n",
    "    print(\"Access granted\")\n",
    "    valid = True"
   ]
  },
  {
   "cell_type": "code",
   "execution_count": null,
   "metadata": {},
   "outputs": [],
   "source": [
    "# Conditions\n",
    "\n",
    "A = 0.0000000000000000000000000000001\n",
    "B = 0.00000000000000000000000000000001\n",
    "\n",
    "if A == B:\n",
    "  print(\"A is equal to B\")\n",
    "elif A > B:\n",
    "  print(\"A is greater than B\")\n",
    "else:\n",
    "  print(\"A is less than B\")"
   ]
  },
  {
   "cell_type": "code",
   "execution_count": null,
   "metadata": {},
   "outputs": [],
   "source": [
    "# Data structures\n",
    "\n",
    "students = [\"Alice\", \"Bob\", \"Charlie\", \"David\", \"Eve\"]\n",
    "print(len(students))\n",
    "print(students)\n",
    "print(students[2])\n",
    "students.append(\"Frank\")\n",
    "print(students)\n",
    "students.remove(\"David\")\n",
    "print(students)\n",
    "students.insert(2, \"David\")\n",
    "print(students)\n",
    "\n",
    "for i, student in enumerate(students):\n",
    "  print(i, student)\n",
    "\n",
    "for i in range(len(students)):\n",
    "  print(i, students[i])\n",
    "\n",
    "print(students[1:3])\n",
    "students.sort()\n",
    "print(students)\n",
    "print(student)"
   ]
  },
  {
   "cell_type": "markdown",
   "metadata": {},
   "source": []
  },
  {
   "cell_type": "code",
   "execution_count": 10,
   "metadata": {},
   "outputs": [
    {
     "name": "stdout",
     "output_type": "stream",
     "text": [
      "1: Flat white costs £3.60\n",
      "2: Tea costs £2.50\n",
      "3: Espresso costs £1.50\n",
      "1: Water £1.00\n",
      "2: Tea £1.50\n",
      "3: Coffee £2.00\n",
      "4: Hot chocolate £2.50\n"
     ]
    }
   ],
   "source": [
    "menu = [\n",
    "  {\"name\": \"Flat white\", \"price\": 3.60},\n",
    "  {\"name\": \"Tea\", \"price\": 2.50},\n",
    "  {\"name\": \"Espresso\", \"price\": 1.50},\n",
    "]\n",
    "\n",
    "for i, item in enumerate(menu, 1):\n",
    "  print(f\"{i}: {item['name']} costs £{item['price']:.2f}\")\n",
    "\n",
    "menu = [(\"Water\", 1.00), (\"Tea\", 1.50), (\"Coffee\", 2.00), (\"Hot chocolate\", 2.50)]\n",
    "for i, (name, price) in enumerate(menu, 1):\n",
    "  print(f\"{i}: {name} £{price:.2f}\")"
   ]
  }
 ],
 "metadata": {
  "kernelspec": {
   "display_name": "Python 3",
   "language": "python",
   "name": "python3"
  },
  "language_info": {
   "codemirror_mode": {
    "name": "ipython",
    "version": 3
   },
   "file_extension": ".py",
   "mimetype": "text/x-python",
   "name": "python",
   "nbconvert_exporter": "python",
   "pygments_lexer": "ipython3",
   "version": "3.13.2"
  }
 },
 "nbformat": 4,
 "nbformat_minor": 2
}
